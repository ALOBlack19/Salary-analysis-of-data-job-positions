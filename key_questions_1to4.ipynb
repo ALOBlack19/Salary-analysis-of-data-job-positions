{
 "cells": [
  {
   "cell_type": "code",
   "execution_count": 122,
   "id": "0029386f-0818-42b7-8c70-c6ee6847e95a",
   "metadata": {},
   "outputs": [
    {
     "name": "stdout",
     "output_type": "stream",
     "text": [
      "Defaulting to user installation because normal site-packages is not writeable\n",
      "Requirement already satisfied: psycopg2-binary in c:\\anaconda python\\lib\\site-packages (2.9.10)\n",
      "Note: you may need to restart the kernel to use updated packages.\n",
      "Defaulting to user installation because normal site-packages is not writeable\n",
      "Collecting squarify\n",
      "  Downloading squarify-0.4.4-py3-none-any.whl.metadata (600 bytes)\n",
      "Downloading squarify-0.4.4-py3-none-any.whl (4.1 kB)\n",
      "Installing collected packages: squarify\n",
      "Successfully installed squarify-0.4.4\n",
      "Note: you may need to restart the kernel to use updated packages.\n"
     ]
    }
   ],
   "source": [
    "%pip install psycopg2-binary\n",
    "%pip install squarify"
   ]
  },
  {
   "cell_type": "code",
   "execution_count": 123,
   "id": "ff3307d7-aef5-4d26-9bcb-1bf30aaae51c",
   "metadata": {},
   "outputs": [],
   "source": [
    "import psycopg2\n",
    "import seaborn as sns\n",
    "import pandas as pd\n",
    "import squarify \n",
    "import matplotlib.pyplot as plt"
   ]
  },
  {
   "cell_type": "code",
   "execution_count": 151,
   "id": "0008f2fe-62a6-4d99-8546-ad7308fa3649",
   "metadata": {},
   "outputs": [
    {
     "name": "stdout",
     "output_type": "stream",
     "text": [
      "Connected to the database\n"
     ]
    }
   ],
   "source": [
    "conn = psycopg2.connect(\n",
    "    dbname = 'salary_analysis_data_job_positions',\n",
    "    user = 'postgres',\n",
    "    password = 'Amir3525',\n",
    "    host = 'localhost',\n",
    "    port = '5432'\n",
    ")\n",
    "\n",
    "cur = conn.cursor()\n",
    "print(\"Connected to the database\")"
   ]
  },
  {
   "cell_type": "code",
   "execution_count": null,
   "id": "fd912bf5-27b1-4ac6-89ab-01afa81f21a4",
   "metadata": {},
   "outputs": [],
   "source": [
    "cur.execute(\"SELECT * FROM salaries s LIMIT 10;\")\n",
    "rows = cur.fetchall()\n",
    "\n",
    "for row in rows:\n",
    "    print(rows)"
   ]
  },
  {
   "cell_type": "markdown",
   "id": "3b80010f",
   "metadata": {},
   "source": [
    "# BASIC STATISTICS\n",
    "### COUNTING TOTAL QUANTITY of DISTINCT job positions\n"
   ]
  },
  {
   "cell_type": "markdown",
   "id": "3e270713",
   "metadata": {},
   "source": [
    "### Ploting - Quantity of data job positions"
   ]
  },
  {
   "cell_type": "code",
   "execution_count": null,
   "id": "cc84fc2d",
   "metadata": {},
   "outputs": [],
   "source": [
    "cur.execute(\"\"\"\n",
    "SELECT\n",
    "\tCOUNT(DISTINCT s.job_title)\n",
    "FROM\n",
    "\tsalaries s\n",
    "\"\"\")\n",
    "rows = cur.fetchall()\n",
    "\n",
    "for row in rows:\n",
    "    print(\"The number of different job positions is: \",rows)"
   ]
  },
  {
   "cell_type": "code",
   "execution_count": null,
   "id": "e6295a2f",
   "metadata": {},
   "outputs": [],
   "source": [
    "cur.execute(\"\"\"\n",
    "SELECT \n",
    "\ts.job_title,\n",
    "\tCOUNT(s.job_title) AS job_count\n",
    "FROM\t\n",
    "\tsalaries s\n",
    "GROUP BY\t\n",
    "\ts.job_title\n",
    "ORDER BY \n",
    "\tCOUNT(s.job_title) DESC\n",
    "LIMIT\n",
    "\t10;\n",
    "\"\"\")\n",
    "rows = cur.fetchall()\n",
    "\n",
    "for row in rows:\n",
    "    print(row)\n",
    "# Defining the query as a Dataframe\n",
    "top_10_data_jobs = pd.DataFrame(rows, columns = ['job_title', 'job_count'])\n",
    "\n",
    "plt.figure(figsize=(10, 5))\n",
    "sns.set_style(\"whitegrid\")\n",
    "sns.barplot(x = \"job_title\", y = \"job_count\", data = top_10_data_jobs, hue = \"job_count\", palette = \"BrBG\")\n",
    "plt.xticks(rotation = 90)\n",
    "plt.ylabel(\"Quantity\", weight=\"bold\", size = 10)\n",
    "plt.xlabel(\"Data job Positions\", weight=\"bold\", size = 10)\n",
    "plt.title(\"Quantity of data job positions\", weight = \"bold\", size = 15.0)\n",
    "plt.show()"
   ]
  },
  {
   "cell_type": "markdown",
   "id": "289e7de4",
   "metadata": {},
   "source": [
    "## Career Choice & Job Trends\n",
    "\n",
    "### 1. Best Roles (part-time) for Beginners\n"
   ]
  },
  {
   "cell_type": "markdown",
   "id": "f1296681",
   "metadata": {},
   "source": [
    "### Ploting - best roles (part-time) for beginners"
   ]
  },
  {
   "cell_type": "code",
   "execution_count": null,
   "id": "10366388",
   "metadata": {},
   "outputs": [],
   "source": [
    "cur.execute(\"\"\"\n",
    "SELECT \n",
    "\ts.experience_level,\n",
    "\ts.job_title,\n",
    "\ts.employment_type,\n",
    "\tROUND(AVG(s.salary_in_usd),2) AS average_salary\n",
    "FROM\t\n",
    "\tsalaries s\n",
    "WHERE\n",
    "\ts.experience_level = 'EN'\n",
    "\tAND s.employment_type = 'PT'\n",
    "GROUP BY\n",
    "\ts.job_title,\n",
    "\ts.experience_level,\n",
    "\ts.employment_type\n",
    "ORDER BY\n",
    "\tAVG(s.salary_in_usd) DESC\n",
    "LIMIT 10;\n",
    "\"\"\")\n",
    "rows = cur.fetchall()\n",
    "\n",
    "for row in rows:\n",
    "    print(row)\n",
    "    \n",
    "# Defining the query as a Dataframe\n",
    "roles_pt = pd.DataFrame(rows, columns = ['experience_level', 'job_title', 'employment_type', 'average_salary'])\n",
    "\n",
    "plt.figure(figsize=(10, 5))\n",
    "sns.set_style(\"whitegrid\")\n",
    "sns.barplot(x = \"job_title\", y = \"average_salary\", data = roles_pt, palette = \"PuOr\", hue = \"job_title\")\n",
    "plt.xticks(rotation = 90)\n",
    "plt.ylabel(\"Average Year salary\", weight=\"bold\", size = 10)\n",
    "plt.xlabel(\"Part-time Positions\", weight=\"bold\", size = 10)\n",
    "plt.title(\"Top 10 Part-time Data Jobs (Entry-Level) by Salary\", weight = \"bold\", size = 15.0)\n",
    "plt.show()\n"
   ]
  },
  {
   "cell_type": "markdown",
   "id": "293ed883",
   "metadata": {},
   "source": [
    "### 1.2. Best Roles (full-time) for Beginners\n"
   ]
  },
  {
   "cell_type": "markdown",
   "id": "bf33d26d",
   "metadata": {},
   "source": [
    "### Ploting - Best roles full-time for beginners"
   ]
  },
  {
   "cell_type": "code",
   "execution_count": null,
   "id": "d3f2990a",
   "metadata": {},
   "outputs": [],
   "source": [
    "cur.execute(\"\"\"\n",
    "SELECT \n",
    "\ts.experience_level,\n",
    "\ts.job_title,\n",
    "\ts.employment_type,\n",
    "\tROUND(AVG(s.salary_in_usd),2) AS average_salary_ft\n",
    "FROM\t\n",
    "\tsalaries s\n",
    "WHERE\n",
    "\ts.experience_level = 'EN'\n",
    "    AND s.employment_type = 'FT'\n",
    "GROUP BY\n",
    "\ts.job_title,\n",
    "\ts.experience_level,\n",
    "\ts.employment_type\n",
    "ORDER BY\n",
    "\tAVG(s.salary_in_usd) DESC\n",
    "LIMIT 10;\n",
    "\n",
    "\"\"\")\n",
    "rows = cur.fetchall()\n",
    "\n",
    "for row in rows:\n",
    "    print(row)\n",
    "    \n",
    "# Defining the query as a Dataframe\n",
    "roles_ft = pd.DataFrame(rows, columns = ['experience_level', 'job_title', 'employment_type', 'average_salary_ft'])\n",
    "\n",
    "plt.figure(figsize=(10, 5))\n",
    "sns.set_style(\"whitegrid\")\n",
    "sns.barplot(x = \"job_title\", y = \"average_salary_ft\", data = roles_ft, palette = \"PiYG\", hue = \"job_title\")\n",
    "plt.xticks(rotation = 90)\n",
    "plt.ylabel(\"Average Year salary\", weight=\"bold\", size = 10)\n",
    "plt.xlabel(\"Full-time Positions\", weight=\"bold\", size = 10)\n",
    "plt.title(\"Top 10 Full-time Data Jobs (Entry-Level) by Salary\", weight = \"bold\", size = 15.0)\n",
    "plt.show()"
   ]
  },
  {
   "cell_type": "markdown",
   "id": "62ecaa4c",
   "metadata": {},
   "source": [
    "## 2. Remote, Hybrid, or In-Person Preferences"
   ]
  },
  {
   "cell_type": "markdown",
   "id": "a0a99ac6",
   "metadata": {},
   "source": [
    "### Ploting - remote ratio"
   ]
  },
  {
   "cell_type": "code",
   "execution_count": null,
   "id": "ed6e11de",
   "metadata": {},
   "outputs": [],
   "source": [
    "cur.execute(\"\"\"\n",
    "SELECT \n",
    "\tCOUNT(s.job_title) AS total_work_types,\n",
    "\ts.remote_ratio,\n",
    "\ts.work_year\n",
    "FROM\n",
    "\tsalaries s\n",
    "GROUP BY\n",
    "\ts.remote_ratio,\n",
    "\ts.work_year\n",
    "ORDER BY \n",
    "\ts.work_year,\n",
    "\tCOUNT(s.job_title) DESC\n",
    "\"\"\")\n",
    "\n",
    "rows = cur.fetchall()\n",
    "\n",
    "for row in rows:\n",
    "    print(row)\n",
    "\n",
    "# Defining the query as a Dataframe\n",
    "remote_ratio = pd.DataFrame(rows, columns = ['remote_ratio', 'total_work_types','work_year'])\n",
    "\n",
    "\n",
    "plt.figure(figsize=(10, 5))\n",
    "sns.set_style(\"whitegrid\")\n",
    "\n",
    "sns.lineplot(x = \"work_year\", y = \"remote_ratio\", hue = \"total_work_types\", data = remote_ratio, markers = 'o', palette = \"tab10\")\n",
    "\n",
    "plt.xticks(rotation = 90)\n",
    "plt.xlabel(\"Year\", weight=\"bold\", size = 10)\n",
    "plt.ylabel(\"Job Quantity\", weight = \"bold\", size = 10)\n",
    "plt.title(\"Job Quantity Over the Years: Remote, Hybrid or In-person\", weight=\"bold\", size = 15.0)\n",
    "plt.legend(title = \"Remote ratio\", title_fontsize = '8')\n",
    "plt.show()"
   ]
  },
  {
   "cell_type": "markdown",
   "id": "30d0b42a",
   "metadata": {},
   "source": [
    "## 2.2. Remote, Hybrid, or In-Person by company location\n",
    "### Ploting - remote"
   ]
  },
  {
   "cell_type": "code",
   "execution_count": null,
   "id": "0a743c0e",
   "metadata": {},
   "outputs": [],
   "source": [
    "cur.execute(\"\"\"\n",
    "SELECT \n",
    "    COUNT(job_title) AS total_work_types,\n",
    "    s.company_location,\n",
    "    s.remote_ratio    \n",
    "FROM\n",
    "    salaries s\n",
    "WHERE\n",
    "    s.remote_ratio = '0'\n",
    "GROUP BY\n",
    "    s.remote_ratio,\n",
    "    s.company_location\n",
    "ORDER BY \n",
    "    total_work_types DESC,\n",
    "    s.remote_ratio\n",
    "LIMIT\n",
    "    10\n",
    "\"\"\")\n",
    "\n",
    "rows = cur.fetchall()\n",
    "\n",
    "for row in rows:\n",
    "    print(row)\n",
    "\n",
    "remote_ratio = pd.DataFrame(rows, columns = ['total_work_types','company_location', 'remote_ratio'])\n",
    "\n",
    "plt.figure(figsize=(12, 6))\n",
    "sns.barplot(x = \"total_work_types\", y = \"company_location\", hue = \"remote_ratio\", data = remote_ratio, palette = \"tab10\")\n",
    "plt.xlabel(\"Number of Job Listings\")\n",
    "plt.ylabel(\"Country (ISO Code)\")\n",
    "plt.title(\"Job Listings by Country and Remote Work Type\")\n",
    "plt.legend(title = \"Remote\")\n",
    "plt.show()"
   ]
  },
  {
   "cell_type": "markdown",
   "id": "84a1db3f",
   "metadata": {},
   "source": [
    "## 2.3. Remote, Hybrid, or In-Person by company location\n",
    "### Ploting - Hybrid work"
   ]
  },
  {
   "cell_type": "code",
   "execution_count": null,
   "id": "4349d47b",
   "metadata": {},
   "outputs": [],
   "source": [
    "cur.execute(\"\"\"\n",
    "SELECT \n",
    "    COUNT(job_title ) AS total_work_types,\n",
    "    s.company_location,\n",
    "    s.remote_ratio    \n",
    "FROM\n",
    "    salaries s\n",
    "WHERE\n",
    "\ts.remote_ratio = '50'\n",
    "GROUP BY\n",
    "    s.remote_ratio,\n",
    "    s.company_location\n",
    "ORDER BY \n",
    "    total_work_types DESC\n",
    "LIMIT 10\n",
    "\"\"\")\n",
    "\n",
    "rows = cur.fetchall()\n",
    "\n",
    "for row in rows:\n",
    "    print(row)\n",
    "\n",
    "hybrid_ratio = pd.DataFrame(rows, columns = ['total_work_types','company_location', 'remote_ratio'])\n",
    "\n",
    "plt.figure(figsize=(12, 6))\n",
    "sns.barplot(x = \"total_work_types\", y = \"company_location\", hue = \"remote_ratio\", data = hybrid_ratio, palette = \"tab10\")\n",
    "plt.xlabel(\"Number of Job Listings\")\n",
    "plt.ylabel(\"Country (ISO Code)\")\n",
    "plt.title(\"Job Listings by Country and Remote Work Type\")\n",
    "plt.legend(title = \"Hybrid\")\n",
    "plt.show()"
   ]
  },
  {
   "cell_type": "markdown",
   "id": "a0bef7a9",
   "metadata": {},
   "source": [
    "## 2.3. Remote, Hybrid, or In-Person by company location\n",
    "### Ploting - IN-PERSON work"
   ]
  },
  {
   "cell_type": "code",
   "execution_count": null,
   "id": "42e728af",
   "metadata": {},
   "outputs": [],
   "source": [
    "cur.execute(\"\"\"\n",
    "SELECT \n",
    "    COUNT(job_title ) AS total_work_types,\n",
    "    s.company_location,\n",
    "    s.remote_ratio    \n",
    "FROM\n",
    "    salaries s\n",
    "WHERE\n",
    "\ts.remote_ratio = '0'\n",
    "GROUP BY\n",
    "    s.remote_ratio,\n",
    "    s.company_location\n",
    "ORDER BY \n",
    "    total_work_types DESC\n",
    "LIMIT 10\n",
    "\"\"\")\n",
    "\n",
    "rows = cur.fetchall()\n",
    "\n",
    "for row in rows:\n",
    "    print(row)\n",
    "\n",
    "inperson_ratio = pd.DataFrame(rows, columns = ['total_work_types','company_location', 'remote_ratio'])\n",
    "\n",
    "plt.figure(figsize=(12, 6))\n",
    "sns.barplot(x = \"total_work_types\", y = \"company_location\", hue = \"remote_ratio\", data = inperson_ratio, palette = \"tab10\")\n",
    "plt.xlabel(\"Number of Job Listings\")\n",
    "plt.ylabel(\"Country (ISO Code)\")\n",
    "plt.title(\"Job Listings by Country and Remote Work Type\")\n",
    "plt.legend(title = \"In person\")\n",
    "plt.show()"
   ]
  },
  {
   "cell_type": "markdown",
   "id": "646a533b",
   "metadata": {},
   "source": [
    "### Plot test - tree map"
   ]
  },
  {
   "cell_type": "code",
   "execution_count": null,
   "id": "1f32aafe",
   "metadata": {},
   "outputs": [],
   "source": [
    "inperson_ratio['label'] = inperson_ratio['company_location'] + \"\\n\" + inperson_ratio['remote_ratio'].astype(str)\n",
    "\n",
    "plt.figure(figsize=(12, 6))\n",
    "squarify.plot(sizes = inperson_ratio[\"total_work_types\"], label = inperson_ratio[\"label\"], alpha = 0.8, color=sns.color_palette(\"tab10\", len(inperson_ratio)))\n",
    "plt.axis(\"off\")\n",
    "plt.title(\"Job Listings by Country and Remote Work Type\")\n",
    "plt.show()"
   ]
  },
  {
   "cell_type": "markdown",
   "id": "5a440e96",
   "metadata": {},
   "source": [
    "## 3. Career Growth Potential\n",
    "### Ploting - Career growth potential"
   ]
  },
  {
   "cell_type": "code",
   "execution_count": null,
   "id": "445cbe92",
   "metadata": {},
   "outputs": [],
   "source": [
    "cur.execute(\"\"\"\n",
    "SELECT\n",
    "\ts.experience_level, \n",
    "\tROUND(AVG(s.salary_in_usd),2) AS average_salary,\n",
    "\ts.work_year\n",
    "FROM\n",
    "\tsalaries s\n",
    "GROUP BY\n",
    "\ts.work_year,\n",
    "\ts.experience_level\n",
    "ORDER BY\n",
    "\ts.work_year,\n",
    "\tCASE \n",
    "        WHEN s.experience_level = 'EN' THEN 1\n",
    "        WHEN s.experience_level = 'MI' THEN 2\n",
    "        WHEN s.experience_level = 'SE' THEN 3\n",
    "        WHEN s.experience_level = 'EX' THEN 4\n",
    "    END;\n",
    "\"\"\")\n",
    "\n",
    "rows = cur.fetchall()\n",
    "\n",
    "for row in rows:\n",
    "    print(row)\n",
    "    \n",
    "growth = pd.DataFrame(rows, columns = [\"experience_level\",\"average_salary\",\"work_year\"])\n",
    "\n",
    "plt.figure(figsize=(12, 6))\n",
    "sns.barplot(x = \"work_year\", y = \"average_salary\", hue = \"experience_level\", data = growth, palette = \"tab10\")\n",
    "plt.xlabel(\"Years\", weight = 'bold')\n",
    "plt.ylabel(\"Average salaries\", weight = 'bold')\n",
    "plt.title(\"Career growth potential\", weight = 'bold')\n",
    "plt.legend(title = \"Experience level\")\n",
    "plt.show()\n"
   ]
  },
  {
   "cell_type": "markdown",
   "id": "ee68af2b",
   "metadata": {},
   "source": [
    "## 3.2. Career Growth Potential\n",
    "### Data Scientists\n",
    "### Ploting - Growth potential Data Scientists"
   ]
  },
  {
   "cell_type": "code",
   "execution_count": 232,
   "id": "1bcda246",
   "metadata": {},
   "outputs": [
    {
     "name": "stdout",
     "output_type": "stream",
     "text": [
      "('EN', Decimal('69840.67'), 2020)\n",
      "('MI', Decimal('91870.94'), 2020)\n",
      "('SE', Decimal('138648.89'), 2020)\n",
      "('EX', Decimal('179958.25'), 2020)\n",
      "('EN', Decimal('63463.07'), 2021)\n",
      "('MI', Decimal('86818.39'), 2021)\n",
      "('SE', Decimal('125989.75'), 2021)\n",
      "('EX', Decimal('186128.00'), 2021)\n",
      "('EN', Decimal('79464.09'), 2022)\n",
      "('MI', Decimal('102745.58'), 2022)\n",
      "('SE', Decimal('147768.97'), 2022)\n",
      "('EX', Decimal('184738.09'), 2022)\n",
      "('EN', Decimal('91036.20'), 2023)\n",
      "('MI', Decimal('123773.66'), 2023)\n",
      "('SE', Decimal('165421.03'), 2023)\n",
      "('EX', Decimal('191006.75'), 2023)\n",
      "('EN', Decimal('103436.13'), 2024)\n",
      "('MI', Decimal('145683.71'), 2024)\n",
      "('SE', Decimal('175706.64'), 2024)\n",
      "('EX', Decimal('201624.67'), 2024)\n",
      "('EN', Decimal('93730.56'), 2025)\n",
      "('MI', Decimal('141752.10'), 2025)\n",
      "('SE', Decimal('171353.63'), 2025)\n",
      "('EX', Decimal('204190.57'), 2025)\n"
     ]
    },
    {
     "data": {
      "text/plain": [
       "<Figure size 1200x600 with 0 Axes>"
      ]
     },
     "metadata": {},
     "output_type": "display_data"
    },
    {
     "data": {
      "image/png": "[encoded data removed]",
      "text/plain": [
       "<Figure size 615.611x500 with 1 Axes>"
      ]
     },
     "metadata": {},
     "output_type": "display_data"
    }
   ],
   "source": [
    "cur.execute(\"\"\"\n",
    "SELECT\n",
    "\ts.experience_level, \n",
    "\tROUND(AVG(s.salary_in_usd),2) AS average_salary,\n",
    "\ts.work_year\n",
    "FROM\n",
    "\tsalaries s\n",
    "GROUP BY\n",
    "\ts.work_year,\n",
    "\ts.experience_level\n",
    "ORDER BY\n",
    "\ts.work_year,\n",
    "\tCASE \n",
    "        WHEN s.experience_level = 'EN' THEN 1\n",
    "        WHEN s.experience_level = 'MI' THEN 2\n",
    "        WHEN s.experience_level = 'SE' THEN 3\n",
    "        WHEN s.experience_level = 'EX' THEN 4\n",
    "    END;\n",
    "\"\"\")\n",
    "\n",
    "rows = cur.fetchall()\n",
    "\n",
    "for row in rows:\n",
    "    print(row)\n",
    "    \n",
    "growth_ds = pd.DataFrame(rows, columns = [\"experience_level\",\"average_salary\",\"work_year\"])\n",
    "\n",
    "plt.figure(figsize=(12, 6))\n",
    "sns.catplot(x = \"work_year\", y = \"average_salary\", hue = \"experience_level\", data = growth_ds, kind = \"point\", palette = \"tab10\")\n",
    "plt.xlabel(\"Years\", weight = 'bold')\n",
    "plt.ylabel(\"Average salaries\", weight = 'bold')\n",
    "plt.title(\"Career growth potential - Data Science\", weight = 'bold')\n",
    "plt.show()"
   ]
  },
  {
   "cell_type": "markdown",
   "id": "4edc4be6",
   "metadata": {},
   "source": [
    "## 4. Comparing earnings across employment type and the most common employment type."
   ]
  },
  {
   "cell_type": "code",
   "execution_count": null,
   "id": "4b6dc316",
   "metadata": {},
   "outputs": [],
   "source": [
    "cur.execute(\"\"\"\n",
    "SELECT\n",
    "\ts.employment_type,\n",
    "\tCOUNT(s.employment_type) AS total_jobs_types,\n",
    "\tAVG(s.salary_in_usd) AS avg_salary_job_type\n",
    "FROM\n",
    "\tsalaries s\n",
    "GROUP BY\n",
    "\ts.employment_type\n",
    "ORDER BY\n",
    "\tCASE \n",
    "        WHEN s.employment_type = 'PT' THEN 1\n",
    "        WHEN s.employment_type = 'FT' THEN 2\n",
    "        WHEN s.employment_type = 'CT' THEN 3\n",
    "        WHEN s.employment_type = 'FL' THEN 4\n",
    "\tEND;\n",
    "\"\"\")\n",
    "\n",
    "rows = cur.fetchall()\n",
    "\n",
    "for row in rows:\n",
    "    print(row)\n",
    "    \n",
    "# Defining the query as a Dataframe\n",
    "data_roles = pd.DataFrame(rows, columns = ['employment_type','total_jobs_types','avg_salary_job_type'])\n",
    "\n",
    "plt.figure(figsize=(10, 5))\n",
    "sns.barplot(x = \"total_jobs_types\", y = \"avg_salary_job_type\", hue = 'employment_type',data = data_roles, palette = \"tab10\")\n",
    "plt.ylabel(\"Average salary\",  weight = 'bold')\n",
    "plt.xlabel(\"Total Jobs\", weight = 'bold')\n",
    "plt.title(\"Comparacing: Total Data Roles & Average Salaries\",  weight = 'bold')\n",
    "plt.show()"
   ]
  },
  {
   "cell_type": "markdown",
   "id": "bb59fe3f",
   "metadata": {},
   "source": [
    "## 4.2. Comparing earnings across employment_type and the most common employment type.\n",
    "### Data Scientists"
   ]
  },
  {
   "cell_type": "code",
   "execution_count": null,
   "id": "4f6c95e5",
   "metadata": {},
   "outputs": [],
   "source": [
    "cur.execute(\"\"\"\n",
    "SELECT\n",
    "\ts.employment_type,\n",
    "\tCOUNT(s.employment_type) AS total_jobs_types,\n",
    "\tROUND(AVG(s.salary_in_usd),2) AS avg_salary_job_type\n",
    "FROM\n",
    "\tsalaries s\n",
    "WHERE \n",
    "\ts.job_title = 'Data Scientist'\n",
    "GROUP BY\n",
    "\ts.employment_type\n",
    "ORDER BY\n",
    "\tCASE \n",
    "        WHEN s.employment_type = 'PT' THEN 1\n",
    "        WHEN s.employment_type = 'FT' THEN 2\n",
    "        WHEN s.employment_type = 'CT' THEN 3\n",
    "        WHEN s.employment_type = 'FL' THEN 4\n",
    "\tEND;\n",
    "\"\"\")\n",
    "\n",
    "rows = cur.fetchall()\n",
    "\n",
    "for row in rows:\n",
    "    print(row)\n",
    "\n",
    "# Defining the query as a Dataframe\n",
    "ds_role_salary = pd.DataFrame(rows, columns = ['employment_type','total_jobs_types','avg_salary_job_type'])\n",
    "\n",
    "plt.figure(figsize=(10, 5))\n",
    "sns.barplot(x = \"total_jobs_types\", y = \"avg_salary_job_type\", hue = 'employment_type',data = ds_role_salary, palette = \"tab20\")\n",
    "plt.ylabel(\"Average salary\",  weight = 'bold')\n",
    "plt.xlabel(\"Total Jobs\", weight = 'bold')\n",
    "plt.title(\"Data Science: Total Roles & Average Salaries\",  weight = 'bold')\n",
    "plt.show()"
   ]
  },
  {
   "cell_type": "code",
   "execution_count": 46,
   "id": "310446d6-84d3-4e94-a854-aa6094a6ada7",
   "metadata": {},
   "outputs": [
    {
     "name": "stdout",
     "output_type": "stream",
     "text": [
      "Connection closed\n"
     ]
    }
   ],
   "source": [
    "cur.close()\n",
    "conn.close()\n",
    "print(\"Connection closed\")"
   ]
  }
 ],
 "metadata": {
  "kernelspec": {
   "display_name": "base",
   "language": "python",
   "name": "python3"
  },
  "language_info": {
   "codemirror_mode": {
    "name": "ipython",
    "version": 3
   },
   "file_extension": ".py",
   "mimetype": "text/x-python",
   "name": "python",
   "nbconvert_exporter": "python",
   "pygments_lexer": "ipython3",
   "version": "3.12.7"
  }
 },
 "nbformat": 4,
 "nbformat_minor": 5
}
