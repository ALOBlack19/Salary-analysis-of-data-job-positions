{
 "cells": [
  {
   "cell_type": "code",
   "execution_count": 1,
   "id": "0029386f-0818-42b7-8c70-c6ee6847e95a",
   "metadata": {},
   "outputs": [
    {
     "name": "stdout",
     "output_type": "stream",
     "text": [
      "Defaulting to user installation because normal site-packages is not writeable\n",
      "Requirement already satisfied: psycopg2-binary in c:\\anaconda python\\lib\\site-packages (2.9.10)\n"
     ]
    }
   ],
   "source": [
    "!pip install psycopg2-binary"
   ]
  },
  {
   "cell_type": "code",
   "execution_count": 2,
   "id": "ff3307d7-aef5-4d26-9bcb-1bf30aaae51c",
   "metadata": {},
   "outputs": [],
   "source": [
    "import psycopg2\n",
    "import seaborn as sns\n",
    "import matplotlib as plt"
   ]
  },
  {
   "cell_type": "code",
   "execution_count": null,
   "id": "0008f2fe-62a6-4d99-8546-ad7308fa3649",
   "metadata": {},
   "outputs": [
    {
     "name": "stdout",
     "output_type": "stream",
     "text": [
      "Connected to the database\n"
     ]
    }
   ],
   "source": [
    "conn = psycopg2.connect(\n",
    "    dbname = 'salary_analysis_data_job_positions',\n",
    "    user = 'postgres',\n",
    "    password = 'Amir3525',\n",
    "    host = 'localhost',\n",
    "    port = '5432'\n",
    ")\n",
    "\n",
    "cur = conn.cursor()\n",
    "print(\"Connected to the database\")"
   ]
  },
  {
   "cell_type": "code",
   "execution_count": null,
   "id": "fd912bf5-27b1-4ac6-89ab-01afa81f21a4",
   "metadata": {},
   "outputs": [],
   "source": [
    "cur.execute(\"SELECT * FROM salaries s LIMIT 10;\")\n",
    "rows = cur.fetchall()\n",
    "\n",
    "for row in rows:\n",
    "    print(rows)"
   ]
  },
  {
   "cell_type": "markdown",
   "id": "3b80010f",
   "metadata": {},
   "source": [
    "# BASIC STATISTICS\n",
    "### COUNTING TOTAL and DISTINCT job positions\n"
   ]
  },
  {
   "cell_type": "code",
   "execution_count": 7,
   "id": "cc84fc2d",
   "metadata": {},
   "outputs": [
    {
     "name": "stdout",
     "output_type": "stream",
     "text": [
      "The number of different job positions is:  [(312,)]\n"
     ]
    }
   ],
   "source": [
    "cur.execute(\"SELECT COUNT(DISTINCT s.job_title) FROM salaries s;\")\n",
    "rows = cur.fetchall()\n",
    "\n",
    "for row in rows:\n",
    "    print(\"The number of different job positions is: \",rows)"
   ]
  },
  {
   "cell_type": "code",
   "execution_count": null,
   "id": "e6295a2f",
   "metadata": {},
   "outputs": [],
   "source": [
    "cur.execute(\"SELECT s.job_title, COUNT(s.job_title) FROM salaries s GROUP BY s.job_title ORDER BY COUNT(s.job_title) DESC;\")\n",
    "rows = cur.fetchall()\n",
    "\n",
    "for row in rows:\n",
    "    print(row)"
   ]
  },
  {
   "cell_type": "markdown",
   "id": "289e7de4",
   "metadata": {},
   "source": [
    "## Career Choice & Job Trends\n",
    "\n",
    "### 1. Best Roles (part-time) for Beginners\n"
   ]
  },
  {
   "cell_type": "code",
   "execution_count": null,
   "id": "10366388",
   "metadata": {},
   "outputs": [],
   "source": [
    "cur.execute(\"SELECT s.experience_level,\ts.job_title, s.employment_type, ROUND(AVG(s.salary_in_usd),2) AS average_salary FROM salaries s WHERE s.experience_level = 'EN'\tAND s.employment_type = 'PT' GROUP BY s.job_title, s.experience_level, s.employment_type ORDER BY AVG(s.salary_in_usd) DESC;\")\n",
    "rows = cur.fetchall()\n",
    "\n",
    "for row in rows:\n",
    "    print(row)"
   ]
  },
  {
   "cell_type": "markdown",
   "id": "293ed883",
   "metadata": {},
   "source": [
    "### 1.2. Best Roles (full-time) for Beginners\n"
   ]
  },
  {
   "cell_type": "code",
   "execution_count": null,
   "id": "d3f2990a",
   "metadata": {},
   "outputs": [],
   "source": [
    "cur.execute(\"SELECT s.experience_level,\ts.job_title, s.employment_type, ROUND(AVG(s.salary_in_usd),2) AS average_salary FROM salaries s WHERE s.experience_level = 'EN' GROUP BY s.job_title, s.experience_level, s.employment_type ORDER BY AVG(s.salary_in_usd) DESC\")\n",
    "rows = cur.fetchall()\n",
    "\n",
    "for row in rows:\n",
    "    print(row)"
   ]
  },
  {
   "cell_type": "markdown",
   "id": "62ecaa4c",
   "metadata": {},
   "source": [
    "## 2. Remote, Hybrid, or In-Person Preferences"
   ]
  },
  {
   "cell_type": "code",
   "execution_count": null,
   "id": "ed6e11de",
   "metadata": {},
   "outputs": [
    {
     "name": "stdout",
     "output_type": "stream",
     "text": [
      "(69580, 0)\n",
      "(18708, 100)\n",
      "(296, 50)\n"
     ]
    }
   ],
   "source": [
    "cur.execute(\"\"\"\n",
    "SELECT \n",
    "\tCOUNT(s.job_title) AS total_work_types,\n",
    "\ts.remote_ratio\n",
    "FROM\n",
    "\tsalaries s\n",
    "GROUP BY\n",
    "\ts.remote_ratio\n",
    "ORDER BY \n",
    "\tCOUNT(s.job_title) DESC\n",
    "\"\"\")\n",
    "\n",
    "rows = cur.fetchall()\n",
    "\n",
    "for row in rows:\n",
    "    print(row)"
   ]
  },
  {
   "cell_type": "markdown",
   "id": "30d0b42a",
   "metadata": {},
   "source": [
    "## 2.2. Remote, Hybrid, or In-Person by company location\n",
    "###  ONLINE"
   ]
  },
  {
   "cell_type": "code",
   "execution_count": null,
   "id": "0a743c0e",
   "metadata": {},
   "outputs": [],
   "source": [
    "cur.execute(\"\"\"\n",
    "SELECT \n",
    "    COUNT(job_title ) AS total_work_types,\n",
    "    s.company_location,\n",
    "    s.remote_ratio    \n",
    "FROM\n",
    "    salaries s\n",
    "WHERE\n",
    "\ts.remote_ratio = '100'\n",
    "GROUP BY\n",
    "    s.remote_ratio,\n",
    "    s.company_location\n",
    "ORDER BY \n",
    "    total_work_types DESC\n",
    "\"\"\")\n",
    "\n",
    "rows = cur.fetchall()\n",
    "\n",
    "for row in rows:\n",
    "    print(row)"
   ]
  },
  {
   "cell_type": "markdown",
   "id": "84a1db3f",
   "metadata": {},
   "source": [
    "## 2.3. Remote, Hybrid, or In-Person by company location\n",
    "###  HYBRID"
   ]
  },
  {
   "cell_type": "code",
   "execution_count": null,
   "id": "4349d47b",
   "metadata": {},
   "outputs": [],
   "source": [
    "cur.execute(\"\"\"\n",
    "SELECT \n",
    "    COUNT(job_title ) AS total_work_types,\n",
    "    s.company_location,\n",
    "    s.remote_ratio    \n",
    "FROM\n",
    "    salaries s\n",
    "WHERE\n",
    "\ts.remote_ratio = '50'\n",
    "GROUP BY\n",
    "    s.remote_ratio,\n",
    "    s.company_location\n",
    "ORDER BY \n",
    "    total_work_types DESC\n",
    "LIMIT 10\n",
    "\"\"\")\n",
    "\n",
    "rows = cur.fetchall()\n",
    "\n",
    "for row in rows:\n",
    "    print(row)"
   ]
  },
  {
   "cell_type": "markdown",
   "id": "a0bef7a9",
   "metadata": {},
   "source": [
    "## 2.4. Remote, Hybrid, or In-Person by company location\n",
    "###  IN-PERSON"
   ]
  },
  {
   "cell_type": "code",
   "execution_count": null,
   "id": "42e728af",
   "metadata": {},
   "outputs": [],
   "source": [
    "cur.execute(\"\"\"\n",
    "SELECT \n",
    "    COUNT(job_title ) AS total_work_types,\n",
    "    s.company_location,\n",
    "    s.remote_ratio    \n",
    "FROM\n",
    "    salaries s\n",
    "WHERE\n",
    "\ts.remote_ratio = '0'\n",
    "GROUP BY\n",
    "    s.remote_ratio,\n",
    "    s.company_location\n",
    "ORDER BY \n",
    "    total_work_types DESC\n",
    "LIMIT 10\n",
    "\"\"\")\n",
    "\n",
    "rows = cur.fetchall()\n",
    "\n",
    "for row in rows:\n",
    "    print(row)"
   ]
  },
  {
   "cell_type": "markdown",
   "id": "5a440e96",
   "metadata": {},
   "source": [
    "## 3. Career Growth Potential"
   ]
  },
  {
   "cell_type": "code",
   "execution_count": null,
   "id": "9d25559d",
   "metadata": {},
   "outputs": [],
   "source": [
    "cur.execute(\"\"\"\n",
    "SELECT\n",
    "\ts.experience_level, \n",
    "\tROUND(AVG(s.salary_in_usd),2) AS average_salary,\n",
    "\ts.work_year\n",
    "FROM\n",
    "\tsalaries s\n",
    "GROUP BY\n",
    "\ts.work_year,\n",
    "\ts.experience_level\n",
    "ORDER BY\n",
    "\ts.work_year,\n",
    "\tCASE \n",
    "        WHEN s.experience_level = 'EN' THEN 1\n",
    "        WHEN s.experience_level = 'MI' THEN 2\n",
    "        WHEN s.experience_level = 'SE' THEN 3\n",
    "        WHEN s.experience_level = 'EX' THEN 4\n",
    "    END;\n",
    "\"\"\")\n",
    "\n",
    "rows = cur.fetchall()\n",
    "\n",
    "for row in rows:\n",
    "    print(row)"
   ]
  },
  {
   "cell_type": "markdown",
   "id": "ee68af2b",
   "metadata": {},
   "source": [
    "## 3.2. Career Growth Potential\n",
    "### Data Scientists"
   ]
  },
  {
   "cell_type": "code",
   "execution_count": null,
   "id": "dc10da5a",
   "metadata": {},
   "outputs": [],
   "source": [
    "cur.execute(\"\"\"\n",
    "SELECT\n",
    "\ts.experience_level, \n",
    "\tROUND(AVG(s.salary_in_usd),2) AS average_salary,\n",
    "\ts.work_year\n",
    "FROM\n",
    "\tsalaries s\n",
    "WHERE\n",
    "\ts.job_title = 'Data Scientist'\n",
    "GROUP BY\n",
    "\ts.work_year,\n",
    "\ts.experience_level\n",
    "ORDER BY\n",
    "\ts.work_year,\n",
    "\tCASE \n",
    "        WHEN s.experience_level = 'EN' THEN 1\n",
    "        WHEN s.experience_level = 'MI' THEN 2\n",
    "        WHEN s.experience_level = 'SE' THEN 3\n",
    "        WHEN s.experience_level = 'EX' THEN 4\n",
    "    END;\n",
    "\"\"\")\n",
    "\n",
    "rows = cur.fetchall()\n",
    "\n",
    "for row in rows:\n",
    "    print(row)"
   ]
  },
  {
   "cell_type": "markdown",
   "id": "4edc4be6",
   "metadata": {},
   "source": [
    "## 4. Comparing earnings across employment type and the most common employment type."
   ]
  },
  {
   "cell_type": "code",
   "execution_count": null,
   "id": "4b6dc316",
   "metadata": {},
   "outputs": [],
   "source": [
    "cur.execute(\"\"\"\n",
    "SELECT\n",
    "\ts.employment_type,\n",
    "\tCOUNT(s.employment_type) AS total_jobs_types,\n",
    "\tAVG(s.salary_in_usd) AS avg_salary_job_type\n",
    "FROM\n",
    "\tsalaries s\n",
    "GROUP BY\n",
    "\ts.employment_type\n",
    "ORDER BY\n",
    "\tCASE \n",
    "        WHEN s.employment_type = 'PT' THEN 1\n",
    "        WHEN s.employment_type = 'FT' THEN 2\n",
    "        WHEN s.employment_type = 'CT' THEN 3\n",
    "        WHEN s.employment_type = 'FL' THEN 4\n",
    "\tEND;\n",
    "\"\"\")\n",
    "\n",
    "rows = cur.fetchall()\n",
    "\n",
    "for row in rows:\n",
    "    print(row)"
   ]
  },
  {
   "cell_type": "markdown",
   "id": "bb59fe3f",
   "metadata": {},
   "source": [
    "## 4.2. Comparing earnings across employment_type and the most common employment type.\n",
    "### Data Scientists"
   ]
  },
  {
   "cell_type": "code",
   "execution_count": null,
   "id": "4f6c95e5",
   "metadata": {},
   "outputs": [],
   "source": [
    "cur.execute(\"\"\"\n",
    "SELECT\n",
    "\ts.employment_type,\n",
    "\tCOUNT(s.employment_type) AS total_jobs_types,\n",
    "\tROUND(AVG(s.salary_in_usd),2) AS avg_salary_job_type\n",
    "FROM\n",
    "\tsalaries s\n",
    "WHERE \n",
    "\ts.job_title = 'Data Scientist'\n",
    "GROUP BY\n",
    "\ts.employment_type\n",
    "ORDER BY\n",
    "\tCASE \n",
    "        WHEN s.employment_type = 'PT' THEN 1\n",
    "        WHEN s.employment_type = 'FT' THEN 2\n",
    "        WHEN s.employment_type = 'CT' THEN 3\n",
    "        WHEN s.employment_type = 'FL' THEN 4\n",
    "\tEND;\n",
    "\"\"\")\n",
    "\n",
    "rows = cur.fetchall()\n",
    "\n",
    "for row in rows:\n",
    "    print(row)"
   ]
  },
  {
   "cell_type": "code",
   "execution_count": null,
   "id": "1ba5f6cd",
   "metadata": {},
   "outputs": [],
   "source": []
  },
  {
   "cell_type": "code",
   "execution_count": null,
   "id": "4b21052f",
   "metadata": {},
   "outputs": [],
   "source": []
  },
  {
   "cell_type": "code",
   "execution_count": null,
   "id": "310446d6-84d3-4e94-a854-aa6094a6ada7",
   "metadata": {},
   "outputs": [
    {
     "name": "stdout",
     "output_type": "stream",
     "text": [
      "Connection closed\n"
     ]
    }
   ],
   "source": [
    "cur.close()\n",
    "conn.close()\n",
    "print(\"Connection closed\")"
   ]
  }
 ],
 "metadata": {
  "kernelspec": {
   "display_name": "base",
   "language": "python",
   "name": "python3"
  },
  "language_info": {
   "codemirror_mode": {
    "name": "ipython",
    "version": 3
   },
   "file_extension": ".py",
   "mimetype": "text/x-python",
   "name": "python",
   "nbconvert_exporter": "python",
   "pygments_lexer": "ipython3",
   "version": "3.12.7"
  }
 },
 "nbformat": 4,
 "nbformat_minor": 5
}
