{
 "cells": [
  {
   "cell_type": "code",
   "execution_count": 1,
   "id": "0029386f-0818-42b7-8c70-c6ee6847e95a",
   "metadata": {},
   "outputs": [
    {
     "name": "stdout",
     "output_type": "stream",
     "text": [
      "Defaulting to user installation because normal site-packages is not writeable\n",
      "Requirement already satisfied: psycopg2-binary in c:\\anaconda python\\lib\\site-packages (2.9.10)\n"
     ]
    }
   ],
   "source": [
    "!pip install psycopg2-binary"
   ]
  },
  {
   "cell_type": "code",
   "execution_count": 2,
   "id": "ff3307d7-aef5-4d26-9bcb-1bf30aaae51c",
   "metadata": {},
   "outputs": [],
   "source": [
    "import psycopg2\n",
    "import seaborn as sns\n",
    "import matplotlib as plt"
   ]
  },
  {
   "cell_type": "code",
   "execution_count": 3,
   "id": "0008f2fe-62a6-4d99-8546-ad7308fa3649",
   "metadata": {},
   "outputs": [
    {
     "name": "stdout",
     "output_type": "stream",
     "text": [
      "Connected to the database\n"
     ]
    }
   ],
   "source": [
    "conn = psycopg2.connect(\n",
    "    dbname = 'salary_analysis_data_job_positions',\n",
    "    user = 'postgres',\n",
    "    password = 'Amir3525', # Change this!\n",
    "    host = 'localhost',\n",
    "    port = '5432'\n",
    ")\n",
    "\n",
    "cur = conn.cursor()\n",
    "print(\"Connected to the database\")"
   ]
  },
  {
   "cell_type": "code",
   "execution_count": 4,
   "id": "fd912bf5-27b1-4ac6-89ab-01afa81f21a4",
   "metadata": {},
   "outputs": [
    {
     "name": "stdout",
     "output_type": "stream",
     "text": [
      "[(2025, 'MI', 'FT', 'Customer Success Manager', 57000, 'EUR', 60000, 'NL', 50, 'NL', 'L'), (2025, 'SE', 'FT', 'Engineer', 165000, 'USD', 165000, 'US', 0, 'US', 'M'), (2025, 'SE', 'FT', 'Engineer', 109000, 'USD', 109000, 'US', 0, 'US', 'M'), (2025, 'SE', 'FT', 'Applied Scientist', 294000, 'USD', 294000, 'US', 0, 'US', 'M'), (2025, 'SE', 'FT', 'Applied Scientist', 137600, 'USD', 137600, 'US', 0, 'US', 'M'), (2025, 'EN', 'FT', 'Data Analyst', 82000, 'USD', 82000, 'US', 0, 'US', 'M'), (2025, 'EN', 'FT', 'Data Analyst', 44000, 'USD', 44000, 'US', 0, 'US', 'M'), (2025, 'SE', 'FT', 'Software Development Engineer', 149800, 'USD', 149800, 'US', 0, 'US', 'L'), (2025, 'SE', 'FT', 'Software Development Engineer', 89700, 'USD', 89700, 'US', 0, 'US', 'L'), (2025, 'SE', 'FT', 'Research Scientist', 200000, 'USD', 200000, 'US', 0, 'US', 'M')]\n",
      "[(2025, 'MI', 'FT', 'Customer Success Manager', 57000, 'EUR', 60000, 'NL', 50, 'NL', 'L'), (2025, 'SE', 'FT', 'Engineer', 165000, 'USD', 165000, 'US', 0, 'US', 'M'), (2025, 'SE', 'FT', 'Engineer', 109000, 'USD', 109000, 'US', 0, 'US', 'M'), (2025, 'SE', 'FT', 'Applied Scientist', 294000, 'USD', 294000, 'US', 0, 'US', 'M'), (2025, 'SE', 'FT', 'Applied Scientist', 137600, 'USD', 137600, 'US', 0, 'US', 'M'), (2025, 'EN', 'FT', 'Data Analyst', 82000, 'USD', 82000, 'US', 0, 'US', 'M'), (2025, 'EN', 'FT', 'Data Analyst', 44000, 'USD', 44000, 'US', 0, 'US', 'M'), (2025, 'SE', 'FT', 'Software Development Engineer', 149800, 'USD', 149800, 'US', 0, 'US', 'L'), (2025, 'SE', 'FT', 'Software Development Engineer', 89700, 'USD', 89700, 'US', 0, 'US', 'L'), (2025, 'SE', 'FT', 'Research Scientist', 200000, 'USD', 200000, 'US', 0, 'US', 'M')]\n",
      "[(2025, 'MI', 'FT', 'Customer Success Manager', 57000, 'EUR', 60000, 'NL', 50, 'NL', 'L'), (2025, 'SE', 'FT', 'Engineer', 165000, 'USD', 165000, 'US', 0, 'US', 'M'), (2025, 'SE', 'FT', 'Engineer', 109000, 'USD', 109000, 'US', 0, 'US', 'M'), (2025, 'SE', 'FT', 'Applied Scientist', 294000, 'USD', 294000, 'US', 0, 'US', 'M'), (2025, 'SE', 'FT', 'Applied Scientist', 137600, 'USD', 137600, 'US', 0, 'US', 'M'), (2025, 'EN', 'FT', 'Data Analyst', 82000, 'USD', 82000, 'US', 0, 'US', 'M'), (2025, 'EN', 'FT', 'Data Analyst', 44000, 'USD', 44000, 'US', 0, 'US', 'M'), (2025, 'SE', 'FT', 'Software Development Engineer', 149800, 'USD', 149800, 'US', 0, 'US', 'L'), (2025, 'SE', 'FT', 'Software Development Engineer', 89700, 'USD', 89700, 'US', 0, 'US', 'L'), (2025, 'SE', 'FT', 'Research Scientist', 200000, 'USD', 200000, 'US', 0, 'US', 'M')]\n",
      "[(2025, 'MI', 'FT', 'Customer Success Manager', 57000, 'EUR', 60000, 'NL', 50, 'NL', 'L'), (2025, 'SE', 'FT', 'Engineer', 165000, 'USD', 165000, 'US', 0, 'US', 'M'), (2025, 'SE', 'FT', 'Engineer', 109000, 'USD', 109000, 'US', 0, 'US', 'M'), (2025, 'SE', 'FT', 'Applied Scientist', 294000, 'USD', 294000, 'US', 0, 'US', 'M'), (2025, 'SE', 'FT', 'Applied Scientist', 137600, 'USD', 137600, 'US', 0, 'US', 'M'), (2025, 'EN', 'FT', 'Data Analyst', 82000, 'USD', 82000, 'US', 0, 'US', 'M'), (2025, 'EN', 'FT', 'Data Analyst', 44000, 'USD', 44000, 'US', 0, 'US', 'M'), (2025, 'SE', 'FT', 'Software Development Engineer', 149800, 'USD', 149800, 'US', 0, 'US', 'L'), (2025, 'SE', 'FT', 'Software Development Engineer', 89700, 'USD', 89700, 'US', 0, 'US', 'L'), (2025, 'SE', 'FT', 'Research Scientist', 200000, 'USD', 200000, 'US', 0, 'US', 'M')]\n",
      "[(2025, 'MI', 'FT', 'Customer Success Manager', 57000, 'EUR', 60000, 'NL', 50, 'NL', 'L'), (2025, 'SE', 'FT', 'Engineer', 165000, 'USD', 165000, 'US', 0, 'US', 'M'), (2025, 'SE', 'FT', 'Engineer', 109000, 'USD', 109000, 'US', 0, 'US', 'M'), (2025, 'SE', 'FT', 'Applied Scientist', 294000, 'USD', 294000, 'US', 0, 'US', 'M'), (2025, 'SE', 'FT', 'Applied Scientist', 137600, 'USD', 137600, 'US', 0, 'US', 'M'), (2025, 'EN', 'FT', 'Data Analyst', 82000, 'USD', 82000, 'US', 0, 'US', 'M'), (2025, 'EN', 'FT', 'Data Analyst', 44000, 'USD', 44000, 'US', 0, 'US', 'M'), (2025, 'SE', 'FT', 'Software Development Engineer', 149800, 'USD', 149800, 'US', 0, 'US', 'L'), (2025, 'SE', 'FT', 'Software Development Engineer', 89700, 'USD', 89700, 'US', 0, 'US', 'L'), (2025, 'SE', 'FT', 'Research Scientist', 200000, 'USD', 200000, 'US', 0, 'US', 'M')]\n",
      "[(2025, 'MI', 'FT', 'Customer Success Manager', 57000, 'EUR', 60000, 'NL', 50, 'NL', 'L'), (2025, 'SE', 'FT', 'Engineer', 165000, 'USD', 165000, 'US', 0, 'US', 'M'), (2025, 'SE', 'FT', 'Engineer', 109000, 'USD', 109000, 'US', 0, 'US', 'M'), (2025, 'SE', 'FT', 'Applied Scientist', 294000, 'USD', 294000, 'US', 0, 'US', 'M'), (2025, 'SE', 'FT', 'Applied Scientist', 137600, 'USD', 137600, 'US', 0, 'US', 'M'), (2025, 'EN', 'FT', 'Data Analyst', 82000, 'USD', 82000, 'US', 0, 'US', 'M'), (2025, 'EN', 'FT', 'Data Analyst', 44000, 'USD', 44000, 'US', 0, 'US', 'M'), (2025, 'SE', 'FT', 'Software Development Engineer', 149800, 'USD', 149800, 'US', 0, 'US', 'L'), (2025, 'SE', 'FT', 'Software Development Engineer', 89700, 'USD', 89700, 'US', 0, 'US', 'L'), (2025, 'SE', 'FT', 'Research Scientist', 200000, 'USD', 200000, 'US', 0, 'US', 'M')]\n",
      "[(2025, 'MI', 'FT', 'Customer Success Manager', 57000, 'EUR', 60000, 'NL', 50, 'NL', 'L'), (2025, 'SE', 'FT', 'Engineer', 165000, 'USD', 165000, 'US', 0, 'US', 'M'), (2025, 'SE', 'FT', 'Engineer', 109000, 'USD', 109000, 'US', 0, 'US', 'M'), (2025, 'SE', 'FT', 'Applied Scientist', 294000, 'USD', 294000, 'US', 0, 'US', 'M'), (2025, 'SE', 'FT', 'Applied Scientist', 137600, 'USD', 137600, 'US', 0, 'US', 'M'), (2025, 'EN', 'FT', 'Data Analyst', 82000, 'USD', 82000, 'US', 0, 'US', 'M'), (2025, 'EN', 'FT', 'Data Analyst', 44000, 'USD', 44000, 'US', 0, 'US', 'M'), (2025, 'SE', 'FT', 'Software Development Engineer', 149800, 'USD', 149800, 'US', 0, 'US', 'L'), (2025, 'SE', 'FT', 'Software Development Engineer', 89700, 'USD', 89700, 'US', 0, 'US', 'L'), (2025, 'SE', 'FT', 'Research Scientist', 200000, 'USD', 200000, 'US', 0, 'US', 'M')]\n",
      "[(2025, 'MI', 'FT', 'Customer Success Manager', 57000, 'EUR', 60000, 'NL', 50, 'NL', 'L'), (2025, 'SE', 'FT', 'Engineer', 165000, 'USD', 165000, 'US', 0, 'US', 'M'), (2025, 'SE', 'FT', 'Engineer', 109000, 'USD', 109000, 'US', 0, 'US', 'M'), (2025, 'SE', 'FT', 'Applied Scientist', 294000, 'USD', 294000, 'US', 0, 'US', 'M'), (2025, 'SE', 'FT', 'Applied Scientist', 137600, 'USD', 137600, 'US', 0, 'US', 'M'), (2025, 'EN', 'FT', 'Data Analyst', 82000, 'USD', 82000, 'US', 0, 'US', 'M'), (2025, 'EN', 'FT', 'Data Analyst', 44000, 'USD', 44000, 'US', 0, 'US', 'M'), (2025, 'SE', 'FT', 'Software Development Engineer', 149800, 'USD', 149800, 'US', 0, 'US', 'L'), (2025, 'SE', 'FT', 'Software Development Engineer', 89700, 'USD', 89700, 'US', 0, 'US', 'L'), (2025, 'SE', 'FT', 'Research Scientist', 200000, 'USD', 200000, 'US', 0, 'US', 'M')]\n",
      "[(2025, 'MI', 'FT', 'Customer Success Manager', 57000, 'EUR', 60000, 'NL', 50, 'NL', 'L'), (2025, 'SE', 'FT', 'Engineer', 165000, 'USD', 165000, 'US', 0, 'US', 'M'), (2025, 'SE', 'FT', 'Engineer', 109000, 'USD', 109000, 'US', 0, 'US', 'M'), (2025, 'SE', 'FT', 'Applied Scientist', 294000, 'USD', 294000, 'US', 0, 'US', 'M'), (2025, 'SE', 'FT', 'Applied Scientist', 137600, 'USD', 137600, 'US', 0, 'US', 'M'), (2025, 'EN', 'FT', 'Data Analyst', 82000, 'USD', 82000, 'US', 0, 'US', 'M'), (2025, 'EN', 'FT', 'Data Analyst', 44000, 'USD', 44000, 'US', 0, 'US', 'M'), (2025, 'SE', 'FT', 'Software Development Engineer', 149800, 'USD', 149800, 'US', 0, 'US', 'L'), (2025, 'SE', 'FT', 'Software Development Engineer', 89700, 'USD', 89700, 'US', 0, 'US', 'L'), (2025, 'SE', 'FT', 'Research Scientist', 200000, 'USD', 200000, 'US', 0, 'US', 'M')]\n",
      "[(2025, 'MI', 'FT', 'Customer Success Manager', 57000, 'EUR', 60000, 'NL', 50, 'NL', 'L'), (2025, 'SE', 'FT', 'Engineer', 165000, 'USD', 165000, 'US', 0, 'US', 'M'), (2025, 'SE', 'FT', 'Engineer', 109000, 'USD', 109000, 'US', 0, 'US', 'M'), (2025, 'SE', 'FT', 'Applied Scientist', 294000, 'USD', 294000, 'US', 0, 'US', 'M'), (2025, 'SE', 'FT', 'Applied Scientist', 137600, 'USD', 137600, 'US', 0, 'US', 'M'), (2025, 'EN', 'FT', 'Data Analyst', 82000, 'USD', 82000, 'US', 0, 'US', 'M'), (2025, 'EN', 'FT', 'Data Analyst', 44000, 'USD', 44000, 'US', 0, 'US', 'M'), (2025, 'SE', 'FT', 'Software Development Engineer', 149800, 'USD', 149800, 'US', 0, 'US', 'L'), (2025, 'SE', 'FT', 'Software Development Engineer', 89700, 'USD', 89700, 'US', 0, 'US', 'L'), (2025, 'SE', 'FT', 'Research Scientist', 200000, 'USD', 200000, 'US', 0, 'US', 'M')]\n"
     ]
    }
   ],
   "source": [
    "cur.execute(\"SELECT * FROM salaries s LIMIT 10;\")\n",
    "rows = cur.fetchall()\n",
    "\n",
    "for row in rows:\n",
    "    print(rows)"
   ]
  },
  {
   "cell_type": "markdown",
   "id": "3b80010f",
   "metadata": {},
   "source": [
    "# BASIC STATISTICS\n",
    "### COUNTING TOTAL and DISTINCT job positions\n"
   ]
  },
  {
   "cell_type": "code",
   "execution_count": 7,
   "id": "cc84fc2d",
   "metadata": {},
   "outputs": [
    {
     "name": "stdout",
     "output_type": "stream",
     "text": [
      "The number of different job positions is:  [(312,)]\n"
     ]
    }
   ],
   "source": [
    "cur.execute(\"SELECT COUNT(DISTINCT s.job_title) FROM salaries s;\")\n",
    "rows = cur.fetchall()\n",
    "\n",
    "for row in rows:\n",
    "    print(\"The number of different job positions is: \",rows)"
   ]
  },
  {
   "cell_type": "code",
   "execution_count": 13,
   "id": "e6295a2f",
   "metadata": {},
   "outputs": [
    {
     "name": "stdout",
     "output_type": "stream",
     "text": [
      "\n",
      "Number of jobs per job positions:\n",
      " [('Data Scientist', 13156), ('Data Engineer', 10883), ('Software Engineer', 9596), ('Data Analyst', 8652), ('Machine Learning Engineer', 6443), ('Engineer', 5344), ('Manager', 3488), ('Research Scientist', 2553), ('Analyst', 2066), ('Applied Scientist', 1778)] \n",
      "\n"
     ]
    }
   ],
   "source": [
    "cur.execute(\"SELECT s.job_title, COUNT(s.job_title) FROM salaries s GROUP BY s.job_title ORDER BY COUNT(s.job_title) DESC LIMIT 10;\")\n",
    "rows = cur.fetchall()\n",
    "\n",
    "print(\"\\nNumber of jobs per job positions:\\n\",rows,\"\\n\")"
   ]
  },
  {
   "cell_type": "code",
   "execution_count": null,
   "id": "10366388",
   "metadata": {},
   "outputs": [],
   "source": []
  },
  {
   "cell_type": "code",
   "execution_count": null,
   "id": "293ed883",
   "metadata": {},
   "outputs": [],
   "source": []
  },
  {
   "cell_type": "code",
   "execution_count": null,
   "id": "d3f2990a",
   "metadata": {},
   "outputs": [],
   "source": []
  },
  {
   "cell_type": "code",
   "execution_count": null,
   "id": "310446d6-84d3-4e94-a854-aa6094a6ada7",
   "metadata": {},
   "outputs": [
    {
     "name": "stdout",
     "output_type": "stream",
     "text": [
      "Connection closed\n"
     ]
    }
   ],
   "source": [
    "cur.close()\n",
    "conn.close()\n",
    "print(\"Connection closed\")"
   ]
  }
 ],
 "metadata": {
  "kernelspec": {
   "display_name": "base",
   "language": "python",
   "name": "python3"
  },
  "language_info": {
   "codemirror_mode": {
    "name": "ipython",
    "version": 3
   },
   "file_extension": ".py",
   "mimetype": "text/x-python",
   "name": "python",
   "nbconvert_exporter": "python",
   "pygments_lexer": "ipython3",
   "version": "3.12.7"
  }
 },
 "nbformat": 4,
 "nbformat_minor": 5
}
